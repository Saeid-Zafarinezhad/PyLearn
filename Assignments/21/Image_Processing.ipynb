{
 "cells": [
  {
   "cell_type": "code",
   "execution_count": 16,
   "id": "1e71d7ee",
   "metadata": {},
   "outputs": [
    {
     "data": {
      "text/plain": [
       "True"
      ]
     },
     "execution_count": 16,
     "metadata": {},
     "output_type": "execute_result"
    }
   ],
   "source": [
    "import cv2\n",
    "import numpy as np\n",
    "\n",
    "# Chess board 800 * 800\n",
    "\n",
    "img = []\n",
    "color = 255\n",
    "\n",
    "for i in range(10):\n",
    "    if color == 0:\n",
    "        color = 255\n",
    "    else:\n",
    "        color = 0\n",
    "    for l in range(80):\n",
    "        a = []\n",
    "        for j in range(10):\n",
    "            for k in range(80):\n",
    "                BW = color\n",
    "                a.append(BW)\n",
    "            if color == 0:\n",
    "                color = 255\n",
    "            else:\n",
    "                color = 0\n",
    "        img.append(a)\n",
    "    \n",
    "img = np.array(img)\n",
    "\n",
    "cv2.imshow('test', img.astype('float32'))\n",
    "cv2.waitKey()\n",
    "cv2.imwrite('Chess_board.jpg', img)"
   ]
  },
  {
   "cell_type": "code",
   "execution_count": 19,
   "id": "c6d012eb",
   "metadata": {},
   "outputs": [
    {
     "data": {
      "text/plain": [
       "True"
      ]
     },
     "execution_count": 19,
     "metadata": {},
     "output_type": "execute_result"
    }
   ],
   "source": [
    "import cv2\n",
    "import numpy as np\n",
    "\n",
    "\n",
    "img = cv2.imread('1.jpg', 0)\n",
    "\n",
    "subtraction = lambda x: 255 - x\n",
    "\n",
    "img = subtraction(img)\n",
    "\n",
    "cv2.imshow('test', img)\n",
    "cv2.waitKey()\n",
    "cv2.imwrite('Lady.jpg', img)"
   ]
  },
  {
   "cell_type": "code",
   "execution_count": 20,
   "id": "588eef6b",
   "metadata": {},
   "outputs": [
    {
     "data": {
      "text/plain": [
       "True"
      ]
     },
     "execution_count": 20,
     "metadata": {},
     "output_type": "execute_result"
    }
   ],
   "source": [
    "import cv2\n",
    "import numpy as np\n",
    "\n",
    "\n",
    "img = cv2.imread('2.jpg', 0)\n",
    "\n",
    "subtraction = lambda x: 255 - x\n",
    "\n",
    "img = subtraction(img)\n",
    "\n",
    "cv2.imshow('test', img)\n",
    "cv2.waitKey()\n",
    "cv2.imwrite('Gentleman.jpg', img)"
   ]
  },
  {
   "cell_type": "code",
   "execution_count": 21,
   "id": "973ddee4",
   "metadata": {},
   "outputs": [
    {
     "data": {
      "text/plain": [
       "True"
      ]
     },
     "execution_count": 21,
     "metadata": {},
     "output_type": "execute_result"
    }
   ],
   "source": [
    "import cv2\n",
    "import numpy as np\n",
    "\n",
    "\n",
    "img = cv2.imread('3.jpg', 0)\n",
    "\n",
    "\n",
    "img = np.rot90(img)\n",
    "img = np.rot90(img)\n",
    "\n",
    "cv2.imshow('test', img)\n",
    "cv2.waitKey()\n",
    "cv2.imwrite('Happy_Faces.jpg', img)"
   ]
  },
  {
   "cell_type": "code",
   "execution_count": 31,
   "id": "d1dd7452",
   "metadata": {},
   "outputs": [
    {
     "data": {
      "text/plain": [
       "True"
      ]
     },
     "execution_count": 31,
     "metadata": {},
     "output_type": "execute_result"
    }
   ],
   "source": [
    "import cv2\n",
    "import numpy as np\n",
    "\n",
    "\n",
    "img = cv2.imread('4.jpg', 0)\n",
    "\n",
    "x, y = img.shape\n",
    "\n",
    "for i in range(x):\n",
    "    for j in range(y):\n",
    "        if img[i,j] < 100 :\n",
    "            img[i,j] = 0\n",
    "\n",
    "\n",
    "cv2.imshow('test', img)\n",
    "cv2.waitKey()\n",
    "cv2.imwrite('Wolf.jpg', img)"
   ]
  },
  {
   "cell_type": "code",
   "execution_count": 2,
   "id": "7744a278",
   "metadata": {},
   "outputs": [
    {
     "data": {
      "text/plain": [
       "True"
      ]
     },
     "execution_count": 2,
     "metadata": {},
     "output_type": "execute_result"
    }
   ],
   "source": [
    "import cv2\n",
    "import numpy as np\n",
    "\n",
    "\n",
    "img = cv2.imread('Robin-Williams.jpg', 0)\n",
    "\n",
    "\n",
    "cv2.line(img,(0,210),(170,0),(0,0,0),30)\n",
    "\n",
    "\n",
    "cv2.imshow('test', img)\n",
    "cv2.waitKey()\n",
    "cv2.imwrite('Robin_passed.jpg', img)"
   ]
  },
  {
   "cell_type": "code",
   "execution_count": 4,
   "id": "46a20ba7",
   "metadata": {},
   "outputs": [
    {
     "data": {
      "text/plain": [
       "True"
      ]
     },
     "execution_count": 4,
     "metadata": {},
     "output_type": "execute_result"
    }
   ],
   "source": [
    "import cv2\n",
    "import numpy as np\n",
    "\n",
    "\n",
    "img = []\n",
    "\n",
    "for i in reversed(range(510)):\n",
    "    dummy_list = []\n",
    "    for j in range(510):\n",
    "        dummy_list.append(i/2-1)\n",
    "    img.append(dummy_list)\n",
    "\n",
    "img = np.array(img, dtype=np.uint8)\n",
    "\n",
    "cv2.imshow('test' , img)\n",
    "cv2.waitKey()\n",
    "cv2.imwrite('Gradient.jpg', img)"
   ]
  },
  {
   "cell_type": "code",
   "execution_count": null,
   "id": "d24d860f",
   "metadata": {},
   "outputs": [],
   "source": []
  }
 ],
 "metadata": {
  "kernelspec": {
   "display_name": "Python 3 (ipykernel)",
   "language": "python",
   "name": "python3"
  },
  "language_info": {
   "codemirror_mode": {
    "name": "ipython",
    "version": 3
   },
   "file_extension": ".py",
   "mimetype": "text/x-python",
   "name": "python",
   "nbconvert_exporter": "python",
   "pygments_lexer": "ipython3",
   "version": "3.7.2"
  }
 },
 "nbformat": 4,
 "nbformat_minor": 5
}
