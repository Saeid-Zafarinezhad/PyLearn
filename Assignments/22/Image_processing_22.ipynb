{
 "cells": [
  {
   "cell_type": "code",
   "execution_count": 1,
   "id": "edb4eff6",
   "metadata": {},
   "outputs": [],
   "source": [
    "import cv2\n",
    "import os\n",
    "import numpy as np\n",
    "# os.chdir('..\\\\')\n",
    "# os.getcwd()"
   ]
  },
  {
   "cell_type": "markdown",
   "id": "45b64f25",
   "metadata": {},
   "source": [
    "##### a and b images decoded"
   ]
  },
  {
   "cell_type": "code",
   "execution_count": 5,
   "id": "8f93888f",
   "metadata": {},
   "outputs": [
    {
     "data": {
      "text/plain": [
       "-1"
      ]
     },
     "execution_count": 5,
     "metadata": {},
     "output_type": "execute_result"
    }
   ],
   "source": [
    "img1 = cv2.imread('a.tif', 0)\n",
    "img2 = cv2.imread('b.tif', 0)\n",
    "\n",
    "result = cv2.subtract(img2, img1)\n",
    "\n",
    "cv2.imwrite('decoded.jpg', result)\n",
    "cv2.imshow('test', result)\n",
    "cv2.waitKey()"
   ]
  },
  {
   "cell_type": "code",
   "execution_count": 92,
   "id": "085ee6de",
   "metadata": {},
   "outputs": [],
   "source": [
    "os.chdir('C:\\\\Users\\\\asus\\\\Desktop\\\\PythonP\\\\PyLearn_Assignments\\\\22\\\\black hole')"
   ]
  },
  {
   "cell_type": "markdown",
   "id": "64b7a75d",
   "metadata": {},
   "source": [
    "#### Read the images in every directory and denoise them,\n",
    "#### Result will be 4 seperate images"
   ]
  },
  {
   "cell_type": "code",
   "execution_count": 93,
   "id": "00059be4",
   "metadata": {},
   "outputs": [],
   "source": [
    "for i in range(1,5):\n",
    "    os.chdir(f'.\\\\{i}')\n",
    "    imgs_addr = os.listdir()\n",
    "    imgs = [cv2.imread(img) for img in imgs_addr]\n",
    "    result = np.mean(imgs, axis=0)\n",
    "    result = np.array(result, dtype='uint8')\n",
    "    \n",
    "    cv2.imwrite(f'img{i}.jpg', result)\n",
    "#     cv2.imshow('test', result)\n",
    "#     cv2.waitKey()\n",
    "    os.chdir('..\\\\')"
   ]
  },
  {
   "cell_type": "code",
   "execution_count": 119,
   "id": "6ad525ca",
   "metadata": {},
   "outputs": [
    {
     "data": {
      "text/plain": [
       "'C:\\\\Users\\\\asus\\\\Desktop\\\\PythonP\\\\PyLearn_Assignments\\\\22\\\\black hole'"
      ]
     },
     "execution_count": 119,
     "metadata": {},
     "output_type": "execute_result"
    }
   ],
   "source": [
    "os.chdir('.\\\\black hole')\n",
    "os.getcwd()"
   ]
  },
  {
   "cell_type": "markdown",
   "id": "31292927",
   "metadata": {},
   "source": [
    "#### Concatenate 4 images horizontally and vertically\n",
    "#### Save the final image"
   ]
  },
  {
   "cell_type": "code",
   "execution_count": 129,
   "id": "9f3c994d",
   "metadata": {},
   "outputs": [
    {
     "data": {
      "text/plain": [
       "True"
      ]
     },
     "execution_count": 129,
     "metadata": {},
     "output_type": "execute_result"
    }
   ],
   "source": [
    "final_imgs = [img for img in os.listdir() if img.endswith('jpg')]\n",
    "final_imgs = [cv2.imread(img) for img in final_imgs]\n",
    "\n",
    "upper = cv2.hconcat([final_imgs[0], final_imgs[1]])\n",
    "lower = cv2.hconcat([final_imgs[2], final_imgs[3]])\n",
    "\n",
    "final = cv2.vconcat([upper, lower])\n",
    "\n",
    "cv2.imwrite('Black_hole.jpg', final)\n",
    "    \n",
    "    "
   ]
  },
  {
   "cell_type": "markdown",
   "id": "f2f084ce",
   "metadata": {},
   "source": [
    "#### Elec Board"
   ]
  },
  {
   "cell_type": "code",
   "execution_count": 151,
   "id": "6432b1b0",
   "metadata": {},
   "outputs": [
    {
     "data": {
      "text/plain": [
       "-1"
      ]
     },
     "execution_count": 151,
     "metadata": {},
     "output_type": "execute_result"
    }
   ],
   "source": [
    "img1 = cv2.imread('board - origin.bmp', 0)\n",
    "img2 = cv2.imread('board - test.bmp', 0)\n",
    "img1 = cv2.flip(img1, 1)"
   ]
  },
  {
   "cell_type": "markdown",
   "id": "3352dd87",
   "metadata": {},
   "source": [
    "#### Subtract origin from test to distiguish the deffect"
   ]
  },
  {
   "cell_type": "code",
   "execution_count": 153,
   "id": "c4e5615c",
   "metadata": {},
   "outputs": [
    {
     "data": {
      "text/plain": [
       "-1"
      ]
     },
     "execution_count": 153,
     "metadata": {},
     "output_type": "execute_result"
    }
   ],
   "source": [
    "deffect = cv2.subtract(img2, img1)\n",
    "cv2.imwrite('elec_board.jpg', deffect)\n",
    "cv2.imshow('test', deffect)\n",
    "cv2.waitKey()"
   ]
  },
  {
   "cell_type": "markdown",
   "id": "95dae4b3",
   "metadata": {},
   "source": [
    "#### Calculate the mean of Highway images"
   ]
  },
  {
   "cell_type": "code",
   "execution_count": 6,
   "id": "a3973ecb",
   "metadata": {},
   "outputs": [
    {
     "data": {
      "text/plain": [
       "-1"
      ]
     },
     "execution_count": 6,
     "metadata": {},
     "output_type": "execute_result"
    }
   ],
   "source": [
    "imgs = [cv2.imread(img) for img in os.listdir()]\n",
    "result = np.mean(imgs, axis=0)\n",
    "result = np.array(result, dtype='uint8')\n",
    "\n",
    "cv2.imwrite('Free_highway.jpg', result)\n",
    "cv2.imshow('test', result)\n",
    "cv2.waitKey()"
   ]
  },
  {
   "cell_type": "markdown",
   "id": "9e274d72",
   "metadata": {},
   "source": [
    "#### Image blending"
   ]
  },
  {
   "cell_type": "code",
   "execution_count": 8,
   "id": "51ec1659",
   "metadata": {},
   "outputs": [
    {
     "data": {
      "text/plain": [
       "777.8705636743215"
      ]
     },
     "execution_count": 8,
     "metadata": {},
     "output_type": "execute_result"
    }
   ],
   "source": [
    "(1080 * 1380) /1916\n",
    "\n"
   ]
  },
  {
   "cell_type": "code",
   "execution_count": 16,
   "id": "57526ce7",
   "metadata": {},
   "outputs": [
    {
     "data": {
      "text/plain": [
       "(700, 800, 3)"
      ]
     },
     "execution_count": 16,
     "metadata": {},
     "output_type": "execute_result"
    }
   ],
   "source": [
    "Bob = cv2.imread('sponge-bob.jpg')\n",
    "Bob = np.array(Bob, dtype='uint8')\n",
    "Bob = cv2.resize(Bob, (800,700), interpolation = cv2.INTER_AREA)\n",
    "cv2.imshow('test', Bob)\n",
    "cv2.waitKey()\n",
    "Bob.shape"
   ]
  },
  {
   "cell_type": "code",
   "execution_count": 14,
   "id": "8c3a710a",
   "metadata": {},
   "outputs": [
    {
     "data": {
      "text/plain": [
       "(700, 800, 3)"
      ]
     },
     "execution_count": 14,
     "metadata": {},
     "output_type": "execute_result"
    }
   ],
   "source": [
    "self = cv2.imread('saeid.jpg')\n",
    "self = cv2.resize(self, (800,700), interpolation = cv2.INTER_AREA)\n",
    "cv2.imshow('test', self)\n",
    "cv2.waitKey()\n",
    "self.shape"
   ]
  },
  {
   "cell_type": "code",
   "execution_count": 17,
   "id": "11279842",
   "metadata": {},
   "outputs": [],
   "source": [
    "for i in range(4):\n",
    "    img = cv2.addWeighted(self, i/3, Bob, (3-i)/3, 0)\n",
    "    cv2.imwrite(f'Blending{i+1}.jpg', img)"
   ]
  },
  {
   "cell_type": "markdown",
   "id": "1c45739e",
   "metadata": {},
   "source": [
    "#### Convert image to drawing"
   ]
  },
  {
   "cell_type": "code",
   "execution_count": 86,
   "id": "fe258c38",
   "metadata": {},
   "outputs": [
    {
     "data": {
      "text/plain": [
       "-1"
      ]
     },
     "execution_count": 86,
     "metadata": {},
     "output_type": "execute_result"
    }
   ],
   "source": [
    "img = cv2.imread('image1.jpg', 0)\n",
    "img = cv2.resize(img, (800,800))\n",
    "\n",
    "inverted = 255 - img\n",
    "blurred = cv2.GaussianBlur(inverted, (21, 21), 0)\n",
    "inverted_blurred = 255 - blurred\n",
    "\n",
    "sketch = img / inverted_blurred\n",
    "\n",
    "sketch *= 255\n",
    "cv2.imwrite('sketch.jpg', sketch)\n",
    "sketch /= 255\n",
    "cv2.imshow('t', sketch)\n",
    "cv2.waitKey()\n",
    "\n"
   ]
  },
  {
   "cell_type": "markdown",
   "id": "7d93838d",
   "metadata": {},
   "source": [
    "#### add noise to image"
   ]
  },
  {
   "cell_type": "code",
   "execution_count": 226,
   "id": "eb49c781",
   "metadata": {},
   "outputs": [],
   "source": [
    "noise = np.random.randint(140,180, size= (512, 512,3), dtype='uint8')\n",
    "img = cv2.imread('night-beach.jpg')\n",
    "\n",
    "# noise = np.array(noise, dtype='uint8')\n",
    "# type(noise)"
   ]
  },
  {
   "cell_type": "code",
   "execution_count": 227,
   "id": "dfb3d515",
   "metadata": {},
   "outputs": [
    {
     "data": {
      "text/plain": [
       "True"
      ]
     },
     "execution_count": 227,
     "metadata": {},
     "output_type": "execute_result"
    }
   ],
   "source": [
    "noised_img = img / noise\n",
    "\n",
    "cv2.imshow('test', noised_img)\n",
    "cv2.waitKey()\n",
    "\n",
    "noised_img *= 255\n",
    "cv2.imwrite('noisy_img.jpg', noised_img)"
   ]
  },
  {
   "cell_type": "code",
   "execution_count": null,
   "id": "2435114f",
   "metadata": {},
   "outputs": [],
   "source": []
  }
 ],
 "metadata": {
  "kernelspec": {
   "display_name": "Python 3 (ipykernel)",
   "language": "python",
   "name": "python3"
  },
  "language_info": {
   "codemirror_mode": {
    "name": "ipython",
    "version": 3
   },
   "file_extension": ".py",
   "mimetype": "text/x-python",
   "name": "python",
   "nbconvert_exporter": "python",
   "pygments_lexer": "ipython3",
   "version": "3.7.2"
  }
 },
 "nbformat": 4,
 "nbformat_minor": 5
}
